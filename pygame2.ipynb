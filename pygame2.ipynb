{
 "cells": [
  {
   "cell_type": "code",
   "execution_count": 1,
   "id": "c4fbc5a7",
   "metadata": {},
   "outputs": [
    {
     "name": "stdout",
     "output_type": "stream",
     "text": [
      "pygame 2.1.2 (SDL 2.0.16, Python 3.8.10)\n",
      "Hello from the pygame community. https://www.pygame.org/contribute.html\n"
     ]
    }
   ],
   "source": [
    "import pygame\n",
    "import random\n",
    "from enum import Enum\n",
    "from collections import namedtuple"
   ]
  },
  {
   "cell_type": "code",
   "execution_count": 2,
   "id": "159a4b38",
   "metadata": {},
   "outputs": [
    {
     "data": {
      "text/plain": [
       "(5, 0)"
      ]
     },
     "execution_count": 2,
     "metadata": {},
     "output_type": "execute_result"
    }
   ],
   "source": [
    "pygame.init()"
   ]
  },
  {
   "cell_type": "code",
   "execution_count": 3,
   "id": "cc9ac9a8",
   "metadata": {},
   "outputs": [],
   "source": [
    "Width=640\n",
    "Height=480\n",
    "BLOCK_SIZE=20\n",
    "SPEED = 10\n",
    "\n",
    "WHITE=(255,255,255)\n",
    "RED=(200,0,0)\n",
    "BL1=(0,0,255)\n",
    "BL2=(0,100,255)\n",
    "BLACK=(0,0,0)\n",
    "\n",
    "font = pygame.font.SysFont('arial',25)\n",
    "FONT = pygame.font.SysFont(\"SFNT\",70)"
   ]
  },
  {
   "cell_type": "code",
   "execution_count": 4,
   "id": "71cef844",
   "metadata": {},
   "outputs": [],
   "source": [
    "class Direction(Enum):\n",
    "    RIGHT=1\n",
    "    LEFT=2\n",
    "    UP=3\n",
    "    DOWN=4"
   ]
  },
  {
   "cell_type": "code",
   "execution_count": 5,
   "id": "d748af02",
   "metadata": {},
   "outputs": [],
   "source": [
    "Point = namedtuple('Point','x,y')"
   ]
  },
  {
   "cell_type": "code",
   "execution_count": 6,
   "id": "c8091ca8",
   "metadata": {},
   "outputs": [],
   "source": [
    "class SnakeGame:\n",
    "    def __init__(self,width=Width,height=Height):\n",
    "        self.width=width\n",
    "        self.height=height\n",
    "        \n",
    "        #init display\n",
    "        self.display = pygame.display.set_mode((self.width,self.height))\n",
    "        pygame.display.set_caption('Snake Game')\n",
    "        self.clock = pygame.time.Clock()\n",
    "        #init game state\n",
    "        self.direction = Direction.RIGHT\n",
    "        \n",
    "        self.head = Point(self.width/2,self.height/2)\n",
    "        self.snake = [self.head,Point(self.head.x-BLOCK_SIZE,self.head.y),\n",
    "                     Point(self.head.x-(2*BLOCK_SIZE),self.head.y)]\n",
    "        self.score=0\n",
    "        self.food = None\n",
    "        self._place_food()\n",
    "        \n",
    "    def _place_food(self):\n",
    "        x=random.randint(0,(self.width-BLOCK_SIZE)//BLOCK_SIZE)*BLOCK_SIZE\n",
    "        y=random.randint(0,(self.height-BLOCK_SIZE)//BLOCK_SIZE)*BLOCK_SIZE\n",
    "        self.food = Point(x,y)\n",
    "        if self.food in self.snake:\n",
    "            self._place_food()\n",
    "        \n",
    "    def play_step(self):\n",
    "        # 1.collect the input\n",
    "        for event in pygame.event.get():\n",
    "            if event.type == pygame.QUIT:\n",
    "                pygame.quit()\n",
    "                quit()\n",
    "            if event.type == pygame.KEYDOWN:\n",
    "                if event.key == pygame.K_LEFT:\n",
    "                    self.direction = Direction.LEFT\n",
    "                elif event.key == pygame.K_RIGHT:\n",
    "                    self.direction = Direction.RIGHT\n",
    "                elif event.key == pygame.K_UP:\n",
    "                    self.direction = Direction.UP\n",
    "                elif event.key == pygame.K_DOWN:\n",
    "                    self.direction = Direction.DOWN\n",
    "                    \n",
    "        # 2. move the snake\n",
    "        self._move(self.direction) #update the head\n",
    "        self.snake.insert(0,self.head)\n",
    "        \n",
    "        # 3. check of game over\n",
    "        game_over=False\n",
    "        if self._is_collision():\n",
    "            game_over=True\n",
    "            return game_over,self.score\n",
    "        # 4.Place new food or just move\n",
    "        if self.head == self.food:\n",
    "            self.score +=1\n",
    "            self._place_food()\n",
    "        else:\n",
    "            self.snake.pop()\n",
    "        # 5. Upate ui and clock\n",
    "        self._update_ui()\n",
    "        self.clock.tick(SPEED)\n",
    "        # 6. return game over and score return \n",
    "        \n",
    "        return game_over,self.score\n",
    "    \n",
    "    def _is_collision(self):\n",
    "        # boundary\n",
    "        if self.head.x > self.width-BLOCK_SIZE or self.head.x <0 or self.head.y > self.height-BLOCK_SIZE or self.head.y <0:\n",
    "            win_text=\"Score:\"+str(score)\n",
    "            text = FONT.render(win_text,1,WHITE)\n",
    "            self.display.blit(text,(Width//2-text.get_width()//2,Height//2-text.get_height()//2))\n",
    "            pygame.display.flip()\n",
    "            pygame.time.delay(5000)\n",
    "            return True\n",
    "        ## HIts self\n",
    "        if self.head in self.snake[1:]:\n",
    "            win_text=\"Score:\"+str(score)\n",
    "            text = FONT.render(win_text,1,WHITE)\n",
    "            self.display.blit(text,(Width//2-text.get_width()//2,Height//2-text.get_height()//2))\n",
    "            pygame.display.flip()\n",
    "            pygame.time.delay(5000)\n",
    "            return True\n",
    "        \n",
    "        return False\n",
    "        \n",
    "        \n",
    "    def _update_ui(self):\n",
    "        self.display.fill(BLACK)\n",
    "        for point in self.snake:\n",
    "            pygame.draw.rect(self.display,BL1,pygame.Rect(point.x,point.y,BLOCK_SIZE,BLOCK_SIZE))\n",
    "            pygame.draw.rect(self.display,BL2,pygame.Rect(point.x+4,point.y+4,12,12))\n",
    "            \n",
    "        pygame.draw.rect(self.display,RED,pygame.Rect(self.food.x,self.food.y,BLOCK_SIZE,BLOCK_SIZE))\n",
    "        text = font.render(\"Score:\"+str(self.score),True,WHITE)\n",
    "        self.display.blit(text,[0,0])\n",
    "        pygame.display.flip()\n",
    "        \n",
    "    def _move(self,direction):\n",
    "        x = self.head.x\n",
    "        y=self.head.y\n",
    "        if direction == Direction.RIGHT:\n",
    "            x+=BLOCK_SIZE\n",
    "        elif direction == Direction.LEFT:\n",
    "            x-=BLOCK_SIZE\n",
    "        elif direction == Direction.DOWN:\n",
    "            y+=BLOCK_SIZE\n",
    "        elif direction == Direction.UP:\n",
    "            y-=BLOCK_SIZE\n",
    "        \n",
    "        self.head = Point(x,y)"
   ]
  },
  {
   "cell_type": "code",
   "execution_count": 7,
   "id": "68e8677a",
   "metadata": {},
   "outputs": [],
   "source": [
    "if __name__ ==\"__main__\":\n",
    "    game=SnakeGame(Width,Height)\n",
    "    \n",
    "    #game loop\n",
    "    while True:\n",
    "        game_over,score = game.play_step()\n",
    "        \n",
    "        # break if game over\n",
    "        if game_over == True:\n",
    "            break\n",
    "    \n",
    "    #print(\"Final Score\",score)\n",
    "    \n",
    "    pygame.quit()\n",
    "\n",
    "    "
   ]
  },
  {
   "cell_type": "code",
   "execution_count": null,
   "id": "568d6668",
   "metadata": {},
   "outputs": [],
   "source": []
  },
  {
   "cell_type": "code",
   "execution_count": null,
   "id": "5fad31c2",
   "metadata": {},
   "outputs": [],
   "source": []
  }
 ],
 "metadata": {
  "kernelspec": {
   "display_name": "Python 3 (ipykernel)",
   "language": "python",
   "name": "python3"
  },
  "language_info": {
   "codemirror_mode": {
    "name": "ipython",
    "version": 3
   },
   "file_extension": ".py",
   "mimetype": "text/x-python",
   "name": "python",
   "nbconvert_exporter": "python",
   "pygments_lexer": "ipython3",
   "version": "3.8.10"
  }
 },
 "nbformat": 4,
 "nbformat_minor": 5
}
